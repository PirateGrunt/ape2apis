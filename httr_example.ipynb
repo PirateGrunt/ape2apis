{
 "cells": [
  {
   "cell_type": "code",
   "execution_count": 1,
   "metadata": {
    "collapsed": true
   },
   "outputs": [],
   "source": [
    "library(httr)\n",
    "\n",
    "base_url <- 'http://nflarrest.com/api/v1/'\n",
    "crimes_url <- paste0(base_url, 'crime')"
   ]
  },
  {
   "cell_type": "code",
   "execution_count": 2,
   "metadata": {
    "collapsed": false
   },
   "outputs": [
    {
     "data": {
      "text/plain": [
       "$scheme\n",
       "[1] \"http\"\n",
       "\n",
       "$hostname\n",
       "[1] \"nflarrest.com\"\n",
       "\n",
       "$port\n",
       "NULL\n",
       "\n",
       "$path\n",
       "[1] \"api/v1/crime\"\n",
       "\n",
       "$query\n",
       "NULL\n",
       "\n",
       "$params\n",
       "NULL\n",
       "\n",
       "$fragment\n",
       "NULL\n",
       "\n",
       "$username\n",
       "NULL\n",
       "\n",
       "$password\n",
       "NULL\n",
       "\n",
       "attr(,\"class\")\n",
       "[1] \"url\""
      ]
     },
     "metadata": {},
     "output_type": "display_data"
    }
   ],
   "source": [
    "parse_url(crimes_url)"
   ]
  },
  {
   "cell_type": "code",
   "execution_count": 3,
   "metadata": {
    "collapsed": true
   },
   "outputs": [],
   "source": [
    "response <- GET(crimes_url, verbose())"
   ]
  },
  {
   "cell_type": "code",
   "execution_count": 4,
   "metadata": {
    "collapsed": false
   },
   "outputs": [
    {
     "data": {
      "text/html": [
       "200"
      ],
      "text/latex": [
       "200"
      ],
      "text/markdown": [
       "200"
      ],
      "text/plain": [
       "[1] 200"
      ]
     },
     "metadata": {},
     "output_type": "display_data"
    }
   ],
   "source": [
    "response$status_code"
   ]
  },
  {
   "cell_type": "code",
   "execution_count": 5,
   "metadata": {
    "collapsed": false
   },
   "outputs": [
    {
     "data": {
      "text/html": [
       "'application/json'"
      ],
      "text/latex": [
       "'application/json'"
      ],
      "text/markdown": [
       "'application/json'"
      ],
      "text/plain": [
       "[1] \"application/json\""
      ]
     },
     "metadata": {},
     "output_type": "display_data"
    }
   ],
   "source": [
    "response$headers$`content-type`"
   ]
  },
  {
   "cell_type": "code",
   "execution_count": 6,
   "metadata": {
    "collapsed": false
   },
   "outputs": [
    {
     "data": {
      "text/plain": [
       "Response [http://nflarrest.com/api/v1/crime]\n",
       "  Date: 2017-06-20 20:54\n",
       "  Status: 200\n",
       "  Content-Type: application/json\n",
       "  Size: 5.03 kB\n"
      ]
     },
     "metadata": {},
     "output_type": "display_data"
    }
   ],
   "source": [
    "response"
   ]
  },
  {
   "cell_type": "code",
   "execution_count": 7,
   "metadata": {
    "collapsed": false
   },
   "outputs": [
    {
     "data": {
      "text/html": [
       "<ol class=list-inline>\n",
       "\t<li>'url'</li>\n",
       "\t<li>'status_code'</li>\n",
       "\t<li>'headers'</li>\n",
       "\t<li>'all_headers'</li>\n",
       "\t<li>'cookies'</li>\n",
       "\t<li>'content'</li>\n",
       "\t<li>'date'</li>\n",
       "\t<li>'times'</li>\n",
       "\t<li>'request'</li>\n",
       "\t<li>'handle'</li>\n",
       "</ol>\n"
      ],
      "text/latex": [
       "\\begin{enumerate*}\n",
       "\\item 'url'\n",
       "\\item 'status\\_code'\n",
       "\\item 'headers'\n",
       "\\item 'all\\_headers'\n",
       "\\item 'cookies'\n",
       "\\item 'content'\n",
       "\\item 'date'\n",
       "\\item 'times'\n",
       "\\item 'request'\n",
       "\\item 'handle'\n",
       "\\end{enumerate*}\n"
      ],
      "text/markdown": [
       "1. 'url'\n",
       "2. 'status_code'\n",
       "3. 'headers'\n",
       "4. 'all_headers'\n",
       "5. 'cookies'\n",
       "6. 'content'\n",
       "7. 'date'\n",
       "8. 'times'\n",
       "9. 'request'\n",
       "10. 'handle'\n",
       "\n",
       "\n"
      ],
      "text/plain": [
       " [1] \"url\"         \"status_code\" \"headers\"     \"all_headers\" \"cookies\"    \n",
       " [6] \"content\"     \"date\"        \"times\"       \"request\"     \"handle\"     "
      ]
     },
     "metadata": {},
     "output_type": "display_data"
    }
   ],
   "source": [
    "names(response)"
   ]
  },
  {
   "cell_type": "code",
   "execution_count": 8,
   "metadata": {
    "collapsed": true
   },
   "outputs": [],
   "source": [
    "the_content <- content(response, \"text\", encoding = \"UTF-8\")"
   ]
  },
  {
   "cell_type": "code",
   "execution_count": 9,
   "metadata": {
    "collapsed": false
   },
   "outputs": [
    {
     "data": {
      "text/html": [
       "'character'"
      ],
      "text/latex": [
       "'character'"
      ],
      "text/markdown": [
       "'character'"
      ],
      "text/plain": [
       "[1] \"character\""
      ]
     },
     "metadata": {},
     "output_type": "display_data"
    }
   ],
   "source": [
    "typeof(the_content)"
   ]
  },
  {
   "cell_type": "code",
   "execution_count": 10,
   "metadata": {
    "collapsed": false,
    "scrolled": true
   },
   "outputs": [
    {
     "data": {
      "text/html": [
       "'[{\"Category\":\"DUI\",\"arrest_count\":\"186\"},{\"Category\":\"Drugs\",\"arrest_count\":\"93\"},{\"Category\":\"Domestic violence\",\"arrest_count\":\"84\"},{\"Category\":\"Assault\",\"arrest_count\":\"63\"},{\"Category\":\"Disorderly conduct\",\"arrest_count\":\"38\"},{\"Category\":\"Gun\",\"arrest_count\":\"25\"},{\"Category\":\"License\",\"arrest_count\":\"17\"},{\"Category\":\"Reckless driving\",\"arrest_count\":\"15\"},{\"Category\":\"Alcohol\",\"arrest_count\":\"14\"},{\"Category\":\"Resisting arrest\",\"arrest_count\":\"14\"},{\"Category\":\"Battery\",\"arrest_count\":\"14\"},{\"Category\":\"Theft\",\"arrest_count\":\"14\"},{\"Category\":\"Public intoxication\",\"arrest_count\":\"14\"},{\"Category\":\"DUI, drugs\",\"arrest_count\":\"10\"},{\"Category\":\"Outstanding warrant\",\"arrest_count\":\"8\"},{\"Category\":\"Assault, gun\",\"arrest_count\":\"6\"},{\"Category\":\"Drugs, gun\",\"arrest_count\":\"6\"},{\"Category\":\"Failure to appear\",\"arrest_count\":\"6\"},{\"Category\":\"Trespassing\",\"arrest_count\":\"5\"},{\"Category\":\"Sex\",\"arrest_count\":\"5\"},{\"Category\":\"Obstruction\",\"arrest_count\":\"5\"},{\"Category\":\"Violating court order\",\"arrest_count\":\"5\"},{\"Category\":\"Gun, drugs\",\"arrest_count\":\"4\"},{\"Category\":\"Sexual assault\",\"arrest_count\":\"4\"},{\"Category\":\"Disorderly conduct, sex\",\"arrest_count\":\"4\"},{\"Category\":\"Animal abuse\",\"arrest_count\":\"3\"},{\"Category\":\"Solicitation\",\"arrest_count\":\"3\"},{\"Category\":\"Probation violation\",\"arrest_count\":\"3\"},{\"Category\":\"DUI, gun\",\"arrest_count\":\"2\"},{\"Category\":\"Harassment\",\"arrest_count\":\"2\"},{\"Category\":\"Assault, alcohol\",\"arrest_count\":\"2\"},{\"Category\":\"Manslaughter\",\"arrest_count\":\"2\"},{\"Category\":\"Murder, gun\",\"arrest_count\":\"2\"},{\"Category\":\"Criminal mischief\",\"arrest_count\":\"2\"},{\"Category\":\"Disorderly conduct, alcoh\",\"arrest_count\":\"2\"},{\"Category\":\"Domestic violence, gun\",\"arrest_count\":\"2\"},{\"Category\":\"Burglary\",\"arrest_count\":\"2\"},{\"Category\":\"DUI, assault\",\"arrest_count\":\"1\"},{\"Category\":\"Sexual battery\",\"arrest_count\":\"1\"},{\"Category\":\"Reckless driving, drugs\",\"arrest_count\":\"1\"},{\"Category\":\"Domestic dispute\",\"arrest_count\":\"1\"},{\"Category\":\"Eluding police\",\"arrest_count\":\"1\"},{\"Category\":\"Alcohol, disorderly condu\",\"arrest_count\":\"1\"},{\"Category\":\"DUI, drugs, gun\",\"arrest_count\":\"1\"},{\"Category\":\"Dogfighting\",\"arrest_count\":\"1\"},{\"Category\":\"Hit-and-run\",\"arrest_count\":\"1\"},{\"Category\":\"Domestic\",\"arrest_count\":\"1\"},{\"Category\":\"Evading arrest\",\"arrest_count\":\"1\"},{\"Category\":\"Evading police\",\"arrest_count\":\"1\"},{\"Category\":\"Domestic violence, rape\",\"arrest_count\":\"1\"},{\"Category\":\"Property destruction\",\"arrest_count\":\"1\"},{\"Category\":\"Child support\",\"arrest_count\":\"1\"},{\"Category\":\"Reckless driving, weapon\",\"arrest_count\":\"1\"},{\"Category\":\"Gun, stolen possession\",\"arrest_count\":\"1\"},{\"Category\":\"Alcohol, resisting arrest\",\"arrest_count\":\"1\"},{\"Category\":\"Attempted murder\",\"arrest_count\":\"1\"},{\"Category\":\"Drugs, license\",\"arrest_count\":\"1\"},{\"Category\":\"Drugs, resisting arrest\",\"arrest_count\":\"1\"},{\"Category\":\"Traffic warrants\",\"arrest_count\":\"1\"},{\"Category\":\"Theft, gun\",\"arrest_count\":\"1\"},{\"Category\":\"Disturbing the peace\",\"arrest_count\":\"1\"},{\"Category\":\"Failure to appear, gun\",\"arrest_count\":\"1\"},{\"Category\":\"Handicap parking\",\"arrest_count\":\"1\"},{\"Category\":\"Theft, drugs\",\"arrest_count\":\"1\"},{\"Category\":\"Indecent exposure\",\"arrest_count\":\"1\"},{\"Category\":\"Traffic warrant\",\"arrest_count\":\"1\"},{\"Category\":\"Breach of peace\",\"arrest_count\":\"1\"},{\"Category\":\"Guns, drugs\",\"arrest_count\":\"1\"},{\"Category\":\"Police interference\",\"arrest_count\":\"1\"},{\"Category\":\"Battery, resisting arrres\",\"arrest_count\":\"1\"},{\"Category\":\"Animal cruelty\",\"arrest_count\":\"1\"},{\"Category\":\"Pimping\",\"arrest_count\":\"1\"},{\"Category\":\"Stalking\",\"arrest_count\":\"1\"},{\"Category\":\"Assasult\",\"arrest_count\":\"1\"},{\"Category\":\"Public urination\",\"arrest_count\":\"1\"},{\"Category\":\"Gun, privacy invasion\",\"arrest_count\":\"1\"},{\"Category\":\"Domestic violence, alcoho\",\"arrest_count\":\"1\"},{\"Category\":\"Gambling, gun\",\"arrest_count\":\"1\"},{\"Category\":\"Drugs, reckless driving\",\"arrest_count\":\"1\"},{\"Category\":\"Reckless endangerment\",\"arrest_count\":\"1\"},{\"Category\":\"False information\",\"arrest_count\":\"1\"},{\"Category\":\"DUI,drugs\",\"arrest_count\":\"1\"},{\"Category\":\"Murder\",\"arrest_count\":\"1\"},{\"Category\":\"DUI, manslaughter\",\"arrest_count\":\"1\"},{\"Category\":\"DUI, resisting arrest\",\"arrest_count\":\"1\"},{\"Category\":\"Child abuse\",\"arrest_count\":\"1\"},{\"Category\":\"Guns, drugs, reckless dri\",\"arrest_count\":\"1\"},{\"Category\":\"Hit and Run\",\"arrest_count\":\"1\"},{\"Category\":\"Animal neglect\",\"arrest_count\":\"1\"},{\"Category\":\"Coercion, gun\",\"arrest_count\":\"1\"},{\"Category\":\"Resisting officer\",\"arrest_count\":\"1\"},{\"Category\":\"Animal cruelty, drugs\",\"arrest_count\":\"1\"},{\"Category\":\"Battery, alcohol\",\"arrest_count\":\"1\"},{\"Category\":\"Alcohol, assault\",\"arrest_count\":\"1\"},{\"Category\":\"Weapon\",\"arrest_count\":\"1\"},{\"Category\":\"Burglary, assault\",\"arrest_count\":\"1\"},{\"Category\":\"Guns\",\"arrest_count\":\"1\"},{\"Category\":\"False name\",\"arrest_count\":\"1\"},{\"Category\":\"Manslaughter, child abuse\",\"arrest_count\":\"1\"},{\"Category\":\"Burglary, gun\",\"arrest_count\":\"1\"},{\"Category\":\"Burglary, battery\",\"arrest_count\":\"1\"}]'"
      ],
      "text/latex": [
       "'{[}\\{\"Category\":\"DUI\",\"arrest\\_count\":\"186\"\\},\\{\"Category\":\"Drugs\",\"arrest\\_count\":\"93\"\\},\\{\"Category\":\"Domestic violence\",\"arrest\\_count\":\"84\"\\},\\{\"Category\":\"Assault\",\"arrest\\_count\":\"63\"\\},\\{\"Category\":\"Disorderly conduct\",\"arrest\\_count\":\"38\"\\},\\{\"Category\":\"Gun\",\"arrest\\_count\":\"25\"\\},\\{\"Category\":\"License\",\"arrest\\_count\":\"17\"\\},\\{\"Category\":\"Reckless driving\",\"arrest\\_count\":\"15\"\\},\\{\"Category\":\"Alcohol\",\"arrest\\_count\":\"14\"\\},\\{\"Category\":\"Resisting arrest\",\"arrest\\_count\":\"14\"\\},\\{\"Category\":\"Battery\",\"arrest\\_count\":\"14\"\\},\\{\"Category\":\"Theft\",\"arrest\\_count\":\"14\"\\},\\{\"Category\":\"Public intoxication\",\"arrest\\_count\":\"14\"\\},\\{\"Category\":\"DUI, drugs\",\"arrest\\_count\":\"10\"\\},\\{\"Category\":\"Outstanding warrant\",\"arrest\\_count\":\"8\"\\},\\{\"Category\":\"Assault, gun\",\"arrest\\_count\":\"6\"\\},\\{\"Category\":\"Drugs, gun\",\"arrest\\_count\":\"6\"\\},\\{\"Category\":\"Failure to appear\",\"arrest\\_count\":\"6\"\\},\\{\"Category\":\"Trespassing\",\"arrest\\_count\":\"5\"\\},\\{\"Category\":\"Sex\",\"arrest\\_count\":\"5\"\\},\\{\"Category\":\"Obstruction\",\"arrest\\_count\":\"5\"\\},\\{\"Category\":\"Violating court order\",\"arrest\\_count\":\"5\"\\},\\{\"Category\":\"Gun, drugs\",\"arrest\\_count\":\"4\"\\},\\{\"Category\":\"Sexual assault\",\"arrest\\_count\":\"4\"\\},\\{\"Category\":\"Disorderly conduct, sex\",\"arrest\\_count\":\"4\"\\},\\{\"Category\":\"Animal abuse\",\"arrest\\_count\":\"3\"\\},\\{\"Category\":\"Solicitation\",\"arrest\\_count\":\"3\"\\},\\{\"Category\":\"Probation violation\",\"arrest\\_count\":\"3\"\\},\\{\"Category\":\"DUI, gun\",\"arrest\\_count\":\"2\"\\},\\{\"Category\":\"Harassment\",\"arrest\\_count\":\"2\"\\},\\{\"Category\":\"Assault, alcohol\",\"arrest\\_count\":\"2\"\\},\\{\"Category\":\"Manslaughter\",\"arrest\\_count\":\"2\"\\},\\{\"Category\":\"Murder, gun\",\"arrest\\_count\":\"2\"\\},\\{\"Category\":\"Criminal mischief\",\"arrest\\_count\":\"2\"\\},\\{\"Category\":\"Disorderly conduct, alcoh\",\"arrest\\_count\":\"2\"\\},\\{\"Category\":\"Domestic violence, gun\",\"arrest\\_count\":\"2\"\\},\\{\"Category\":\"Burglary\",\"arrest\\_count\":\"2\"\\},\\{\"Category\":\"DUI, assault\",\"arrest\\_count\":\"1\"\\},\\{\"Category\":\"Sexual battery\",\"arrest\\_count\":\"1\"\\},\\{\"Category\":\"Reckless driving, drugs\",\"arrest\\_count\":\"1\"\\},\\{\"Category\":\"Domestic dispute\",\"arrest\\_count\":\"1\"\\},\\{\"Category\":\"Eluding police\",\"arrest\\_count\":\"1\"\\},\\{\"Category\":\"Alcohol, disorderly condu\",\"arrest\\_count\":\"1\"\\},\\{\"Category\":\"DUI, drugs, gun\",\"arrest\\_count\":\"1\"\\},\\{\"Category\":\"Dogfighting\",\"arrest\\_count\":\"1\"\\},\\{\"Category\":\"Hit-and-run\",\"arrest\\_count\":\"1\"\\},\\{\"Category\":\"Domestic\",\"arrest\\_count\":\"1\"\\},\\{\"Category\":\"Evading arrest\",\"arrest\\_count\":\"1\"\\},\\{\"Category\":\"Evading police\",\"arrest\\_count\":\"1\"\\},\\{\"Category\":\"Domestic violence, rape\",\"arrest\\_count\":\"1\"\\},\\{\"Category\":\"Property destruction\",\"arrest\\_count\":\"1\"\\},\\{\"Category\":\"Child support\",\"arrest\\_count\":\"1\"\\},\\{\"Category\":\"Reckless driving, weapon\",\"arrest\\_count\":\"1\"\\},\\{\"Category\":\"Gun, stolen possession\",\"arrest\\_count\":\"1\"\\},\\{\"Category\":\"Alcohol, resisting arrest\",\"arrest\\_count\":\"1\"\\},\\{\"Category\":\"Attempted murder\",\"arrest\\_count\":\"1\"\\},\\{\"Category\":\"Drugs, license\",\"arrest\\_count\":\"1\"\\},\\{\"Category\":\"Drugs, resisting arrest\",\"arrest\\_count\":\"1\"\\},\\{\"Category\":\"Traffic warrants\",\"arrest\\_count\":\"1\"\\},\\{\"Category\":\"Theft, gun\",\"arrest\\_count\":\"1\"\\},\\{\"Category\":\"Disturbing the peace\",\"arrest\\_count\":\"1\"\\},\\{\"Category\":\"Failure to appear, gun\",\"arrest\\_count\":\"1\"\\},\\{\"Category\":\"Handicap parking\",\"arrest\\_count\":\"1\"\\},\\{\"Category\":\"Theft, drugs\",\"arrest\\_count\":\"1\"\\},\\{\"Category\":\"Indecent exposure\",\"arrest\\_count\":\"1\"\\},\\{\"Category\":\"Traffic warrant\",\"arrest\\_count\":\"1\"\\},\\{\"Category\":\"Breach of peace\",\"arrest\\_count\":\"1\"\\},\\{\"Category\":\"Guns, drugs\",\"arrest\\_count\":\"1\"\\},\\{\"Category\":\"Police interference\",\"arrest\\_count\":\"1\"\\},\\{\"Category\":\"Battery, resisting arrres\",\"arrest\\_count\":\"1\"\\},\\{\"Category\":\"Animal cruelty\",\"arrest\\_count\":\"1\"\\},\\{\"Category\":\"Pimping\",\"arrest\\_count\":\"1\"\\},\\{\"Category\":\"Stalking\",\"arrest\\_count\":\"1\"\\},\\{\"Category\":\"Assasult\",\"arrest\\_count\":\"1\"\\},\\{\"Category\":\"Public urination\",\"arrest\\_count\":\"1\"\\},\\{\"Category\":\"Gun, privacy invasion\",\"arrest\\_count\":\"1\"\\},\\{\"Category\":\"Domestic violence, alcoho\",\"arrest\\_count\":\"1\"\\},\\{\"Category\":\"Gambling, gun\",\"arrest\\_count\":\"1\"\\},\\{\"Category\":\"Drugs, reckless driving\",\"arrest\\_count\":\"1\"\\},\\{\"Category\":\"Reckless endangerment\",\"arrest\\_count\":\"1\"\\},\\{\"Category\":\"False information\",\"arrest\\_count\":\"1\"\\},\\{\"Category\":\"DUI,drugs\",\"arrest\\_count\":\"1\"\\},\\{\"Category\":\"Murder\",\"arrest\\_count\":\"1\"\\},\\{\"Category\":\"DUI, manslaughter\",\"arrest\\_count\":\"1\"\\},\\{\"Category\":\"DUI, resisting arrest\",\"arrest\\_count\":\"1\"\\},\\{\"Category\":\"Child abuse\",\"arrest\\_count\":\"1\"\\},\\{\"Category\":\"Guns, drugs, reckless dri\",\"arrest\\_count\":\"1\"\\},\\{\"Category\":\"Hit and Run\",\"arrest\\_count\":\"1\"\\},\\{\"Category\":\"Animal neglect\",\"arrest\\_count\":\"1\"\\},\\{\"Category\":\"Coercion, gun\",\"arrest\\_count\":\"1\"\\},\\{\"Category\":\"Resisting officer\",\"arrest\\_count\":\"1\"\\},\\{\"Category\":\"Animal cruelty, drugs\",\"arrest\\_count\":\"1\"\\},\\{\"Category\":\"Battery, alcohol\",\"arrest\\_count\":\"1\"\\},\\{\"Category\":\"Alcohol, assault\",\"arrest\\_count\":\"1\"\\},\\{\"Category\":\"Weapon\",\"arrest\\_count\":\"1\"\\},\\{\"Category\":\"Burglary, assault\",\"arrest\\_count\":\"1\"\\},\\{\"Category\":\"Guns\",\"arrest\\_count\":\"1\"\\},\\{\"Category\":\"False name\",\"arrest\\_count\":\"1\"\\},\\{\"Category\":\"Manslaughter, child abuse\",\"arrest\\_count\":\"1\"\\},\\{\"Category\":\"Burglary, gun\",\"arrest\\_count\":\"1\"\\},\\{\"Category\":\"Burglary, battery\",\"arrest\\_count\":\"1\"\\}{]}'"
      ],
      "text/markdown": [
       "'[{\"Category\":\"DUI\",\"arrest_count\":\"186\"},{\"Category\":\"Drugs\",\"arrest_count\":\"93\"},{\"Category\":\"Domestic violence\",\"arrest_count\":\"84\"},{\"Category\":\"Assault\",\"arrest_count\":\"63\"},{\"Category\":\"Disorderly conduct\",\"arrest_count\":\"38\"},{\"Category\":\"Gun\",\"arrest_count\":\"25\"},{\"Category\":\"License\",\"arrest_count\":\"17\"},{\"Category\":\"Reckless driving\",\"arrest_count\":\"15\"},{\"Category\":\"Alcohol\",\"arrest_count\":\"14\"},{\"Category\":\"Resisting arrest\",\"arrest_count\":\"14\"},{\"Category\":\"Battery\",\"arrest_count\":\"14\"},{\"Category\":\"Theft\",\"arrest_count\":\"14\"},{\"Category\":\"Public intoxication\",\"arrest_count\":\"14\"},{\"Category\":\"DUI, drugs\",\"arrest_count\":\"10\"},{\"Category\":\"Outstanding warrant\",\"arrest_count\":\"8\"},{\"Category\":\"Assault, gun\",\"arrest_count\":\"6\"},{\"Category\":\"Drugs, gun\",\"arrest_count\":\"6\"},{\"Category\":\"Failure to appear\",\"arrest_count\":\"6\"},{\"Category\":\"Trespassing\",\"arrest_count\":\"5\"},{\"Category\":\"Sex\",\"arrest_count\":\"5\"},{\"Category\":\"Obstruction\",\"arrest_count\":\"5\"},{\"Category\":\"Violating court order\",\"arrest_count\":\"5\"},{\"Category\":\"Gun, drugs\",\"arrest_count\":\"4\"},{\"Category\":\"Sexual assault\",\"arrest_count\":\"4\"},{\"Category\":\"Disorderly conduct, sex\",\"arrest_count\":\"4\"},{\"Category\":\"Animal abuse\",\"arrest_count\":\"3\"},{\"Category\":\"Solicitation\",\"arrest_count\":\"3\"},{\"Category\":\"Probation violation\",\"arrest_count\":\"3\"},{\"Category\":\"DUI, gun\",\"arrest_count\":\"2\"},{\"Category\":\"Harassment\",\"arrest_count\":\"2\"},{\"Category\":\"Assault, alcohol\",\"arrest_count\":\"2\"},{\"Category\":\"Manslaughter\",\"arrest_count\":\"2\"},{\"Category\":\"Murder, gun\",\"arrest_count\":\"2\"},{\"Category\":\"Criminal mischief\",\"arrest_count\":\"2\"},{\"Category\":\"Disorderly conduct, alcoh\",\"arrest_count\":\"2\"},{\"Category\":\"Domestic violence, gun\",\"arrest_count\":\"2\"},{\"Category\":\"Burglary\",\"arrest_count\":\"2\"},{\"Category\":\"DUI, assault\",\"arrest_count\":\"1\"},{\"Category\":\"Sexual battery\",\"arrest_count\":\"1\"},{\"Category\":\"Reckless driving, drugs\",\"arrest_count\":\"1\"},{\"Category\":\"Domestic dispute\",\"arrest_count\":\"1\"},{\"Category\":\"Eluding police\",\"arrest_count\":\"1\"},{\"Category\":\"Alcohol, disorderly condu\",\"arrest_count\":\"1\"},{\"Category\":\"DUI, drugs, gun\",\"arrest_count\":\"1\"},{\"Category\":\"Dogfighting\",\"arrest_count\":\"1\"},{\"Category\":\"Hit-and-run\",\"arrest_count\":\"1\"},{\"Category\":\"Domestic\",\"arrest_count\":\"1\"},{\"Category\":\"Evading arrest\",\"arrest_count\":\"1\"},{\"Category\":\"Evading police\",\"arrest_count\":\"1\"},{\"Category\":\"Domestic violence, rape\",\"arrest_count\":\"1\"},{\"Category\":\"Property destruction\",\"arrest_count\":\"1\"},{\"Category\":\"Child support\",\"arrest_count\":\"1\"},{\"Category\":\"Reckless driving, weapon\",\"arrest_count\":\"1\"},{\"Category\":\"Gun, stolen possession\",\"arrest_count\":\"1\"},{\"Category\":\"Alcohol, resisting arrest\",\"arrest_count\":\"1\"},{\"Category\":\"Attempted murder\",\"arrest_count\":\"1\"},{\"Category\":\"Drugs, license\",\"arrest_count\":\"1\"},{\"Category\":\"Drugs, resisting arrest\",\"arrest_count\":\"1\"},{\"Category\":\"Traffic warrants\",\"arrest_count\":\"1\"},{\"Category\":\"Theft, gun\",\"arrest_count\":\"1\"},{\"Category\":\"Disturbing the peace\",\"arrest_count\":\"1\"},{\"Category\":\"Failure to appear, gun\",\"arrest_count\":\"1\"},{\"Category\":\"Handicap parking\",\"arrest_count\":\"1\"},{\"Category\":\"Theft, drugs\",\"arrest_count\":\"1\"},{\"Category\":\"Indecent exposure\",\"arrest_count\":\"1\"},{\"Category\":\"Traffic warrant\",\"arrest_count\":\"1\"},{\"Category\":\"Breach of peace\",\"arrest_count\":\"1\"},{\"Category\":\"Guns, drugs\",\"arrest_count\":\"1\"},{\"Category\":\"Police interference\",\"arrest_count\":\"1\"},{\"Category\":\"Battery, resisting arrres\",\"arrest_count\":\"1\"},{\"Category\":\"Animal cruelty\",\"arrest_count\":\"1\"},{\"Category\":\"Pimping\",\"arrest_count\":\"1\"},{\"Category\":\"Stalking\",\"arrest_count\":\"1\"},{\"Category\":\"Assasult\",\"arrest_count\":\"1\"},{\"Category\":\"Public urination\",\"arrest_count\":\"1\"},{\"Category\":\"Gun, privacy invasion\",\"arrest_count\":\"1\"},{\"Category\":\"Domestic violence, alcoho\",\"arrest_count\":\"1\"},{\"Category\":\"Gambling, gun\",\"arrest_count\":\"1\"},{\"Category\":\"Drugs, reckless driving\",\"arrest_count\":\"1\"},{\"Category\":\"Reckless endangerment\",\"arrest_count\":\"1\"},{\"Category\":\"False information\",\"arrest_count\":\"1\"},{\"Category\":\"DUI,drugs\",\"arrest_count\":\"1\"},{\"Category\":\"Murder\",\"arrest_count\":\"1\"},{\"Category\":\"DUI, manslaughter\",\"arrest_count\":\"1\"},{\"Category\":\"DUI, resisting arrest\",\"arrest_count\":\"1\"},{\"Category\":\"Child abuse\",\"arrest_count\":\"1\"},{\"Category\":\"Guns, drugs, reckless dri\",\"arrest_count\":\"1\"},{\"Category\":\"Hit and Run\",\"arrest_count\":\"1\"},{\"Category\":\"Animal neglect\",\"arrest_count\":\"1\"},{\"Category\":\"Coercion, gun\",\"arrest_count\":\"1\"},{\"Category\":\"Resisting officer\",\"arrest_count\":\"1\"},{\"Category\":\"Animal cruelty, drugs\",\"arrest_count\":\"1\"},{\"Category\":\"Battery, alcohol\",\"arrest_count\":\"1\"},{\"Category\":\"Alcohol, assault\",\"arrest_count\":\"1\"},{\"Category\":\"Weapon\",\"arrest_count\":\"1\"},{\"Category\":\"Burglary, assault\",\"arrest_count\":\"1\"},{\"Category\":\"Guns\",\"arrest_count\":\"1\"},{\"Category\":\"False name\",\"arrest_count\":\"1\"},{\"Category\":\"Manslaughter, child abuse\",\"arrest_count\":\"1\"},{\"Category\":\"Burglary, gun\",\"arrest_count\":\"1\"},{\"Category\":\"Burglary, battery\",\"arrest_count\":\"1\"}]'"
      ],
      "text/plain": [
       "[1] \"[{\\\"Category\\\":\\\"DUI\\\",\\\"arrest_count\\\":\\\"186\\\"},{\\\"Category\\\":\\\"Drugs\\\",\\\"arrest_count\\\":\\\"93\\\"},{\\\"Category\\\":\\\"Domestic violence\\\",\\\"arrest_count\\\":\\\"84\\\"},{\\\"Category\\\":\\\"Assault\\\",\\\"arrest_count\\\":\\\"63\\\"},{\\\"Category\\\":\\\"Disorderly conduct\\\",\\\"arrest_count\\\":\\\"38\\\"},{\\\"Category\\\":\\\"Gun\\\",\\\"arrest_count\\\":\\\"25\\\"},{\\\"Category\\\":\\\"License\\\",\\\"arrest_count\\\":\\\"17\\\"},{\\\"Category\\\":\\\"Reckless driving\\\",\\\"arrest_count\\\":\\\"15\\\"},{\\\"Category\\\":\\\"Alcohol\\\",\\\"arrest_count\\\":\\\"14\\\"},{\\\"Category\\\":\\\"Resisting arrest\\\",\\\"arrest_count\\\":\\\"14\\\"},{\\\"Category\\\":\\\"Battery\\\",\\\"arrest_count\\\":\\\"14\\\"},{\\\"Category\\\":\\\"Theft\\\",\\\"arrest_count\\\":\\\"14\\\"},{\\\"Category\\\":\\\"Public intoxication\\\",\\\"arrest_count\\\":\\\"14\\\"},{\\\"Category\\\":\\\"DUI, drugs\\\",\\\"arrest_count\\\":\\\"10\\\"},{\\\"Category\\\":\\\"Outstanding warrant\\\",\\\"arrest_count\\\":\\\"8\\\"},{\\\"Category\\\":\\\"Assault, gun\\\",\\\"arrest_count\\\":\\\"6\\\"},{\\\"Category\\\":\\\"Drugs, gun\\\",\\\"arrest_count\\\":\\\"6\\\"},{\\\"Category\\\":\\\"Failure to appear\\\",\\\"arrest_count\\\":\\\"6\\\"},{\\\"Category\\\":\\\"Trespassing\\\",\\\"arrest_count\\\":\\\"5\\\"},{\\\"Category\\\":\\\"Sex\\\",\\\"arrest_count\\\":\\\"5\\\"},{\\\"Category\\\":\\\"Obstruction\\\",\\\"arrest_count\\\":\\\"5\\\"},{\\\"Category\\\":\\\"Violating court order\\\",\\\"arrest_count\\\":\\\"5\\\"},{\\\"Category\\\":\\\"Gun, drugs\\\",\\\"arrest_count\\\":\\\"4\\\"},{\\\"Category\\\":\\\"Sexual assault\\\",\\\"arrest_count\\\":\\\"4\\\"},{\\\"Category\\\":\\\"Disorderly conduct, sex\\\",\\\"arrest_count\\\":\\\"4\\\"},{\\\"Category\\\":\\\"Animal abuse\\\",\\\"arrest_count\\\":\\\"3\\\"},{\\\"Category\\\":\\\"Solicitation\\\",\\\"arrest_count\\\":\\\"3\\\"},{\\\"Category\\\":\\\"Probation violation\\\",\\\"arrest_count\\\":\\\"3\\\"},{\\\"Category\\\":\\\"DUI, gun\\\",\\\"arrest_count\\\":\\\"2\\\"},{\\\"Category\\\":\\\"Harassment\\\",\\\"arrest_count\\\":\\\"2\\\"},{\\\"Category\\\":\\\"Assault, alcohol\\\",\\\"arrest_count\\\":\\\"2\\\"},{\\\"Category\\\":\\\"Manslaughter\\\",\\\"arrest_count\\\":\\\"2\\\"},{\\\"Category\\\":\\\"Murder, gun\\\",\\\"arrest_count\\\":\\\"2\\\"},{\\\"Category\\\":\\\"Criminal mischief\\\",\\\"arrest_count\\\":\\\"2\\\"},{\\\"Category\\\":\\\"Disorderly conduct, alcoh\\\",\\\"arrest_count\\\":\\\"2\\\"},{\\\"Category\\\":\\\"Domestic violence, gun\\\",\\\"arrest_count\\\":\\\"2\\\"},{\\\"Category\\\":\\\"Burglary\\\",\\\"arrest_count\\\":\\\"2\\\"},{\\\"Category\\\":\\\"DUI, assault\\\",\\\"arrest_count\\\":\\\"1\\\"},{\\\"Category\\\":\\\"Sexual battery\\\",\\\"arrest_count\\\":\\\"1\\\"},{\\\"Category\\\":\\\"Reckless driving, drugs\\\",\\\"arrest_count\\\":\\\"1\\\"},{\\\"Category\\\":\\\"Domestic dispute\\\",\\\"arrest_count\\\":\\\"1\\\"},{\\\"Category\\\":\\\"Eluding police\\\",\\\"arrest_count\\\":\\\"1\\\"},{\\\"Category\\\":\\\"Alcohol, disorderly condu\\\",\\\"arrest_count\\\":\\\"1\\\"},{\\\"Category\\\":\\\"DUI, drugs, gun\\\",\\\"arrest_count\\\":\\\"1\\\"},{\\\"Category\\\":\\\"Dogfighting\\\",\\\"arrest_count\\\":\\\"1\\\"},{\\\"Category\\\":\\\"Hit-and-run\\\",\\\"arrest_count\\\":\\\"1\\\"},{\\\"Category\\\":\\\"Domestic\\\",\\\"arrest_count\\\":\\\"1\\\"},{\\\"Category\\\":\\\"Evading arrest\\\",\\\"arrest_count\\\":\\\"1\\\"},{\\\"Category\\\":\\\"Evading police\\\",\\\"arrest_count\\\":\\\"1\\\"},{\\\"Category\\\":\\\"Domestic violence, rape\\\",\\\"arrest_count\\\":\\\"1\\\"},{\\\"Category\\\":\\\"Property destruction\\\",\\\"arrest_count\\\":\\\"1\\\"},{\\\"Category\\\":\\\"Child support\\\",\\\"arrest_count\\\":\\\"1\\\"},{\\\"Category\\\":\\\"Reckless driving, weapon\\\",\\\"arrest_count\\\":\\\"1\\\"},{\\\"Category\\\":\\\"Gun, stolen possession\\\",\\\"arrest_count\\\":\\\"1\\\"},{\\\"Category\\\":\\\"Alcohol, resisting arrest\\\",\\\"arrest_count\\\":\\\"1\\\"},{\\\"Category\\\":\\\"Attempted murder\\\",\\\"arrest_count\\\":\\\"1\\\"},{\\\"Category\\\":\\\"Drugs, license\\\",\\\"arrest_count\\\":\\\"1\\\"},{\\\"Category\\\":\\\"Drugs, resisting arrest\\\",\\\"arrest_count\\\":\\\"1\\\"},{\\\"Category\\\":\\\"Traffic warrants\\\",\\\"arrest_count\\\":\\\"1\\\"},{\\\"Category\\\":\\\"Theft, gun\\\",\\\"arrest_count\\\":\\\"1\\\"},{\\\"Category\\\":\\\"Disturbing the peace\\\",\\\"arrest_count\\\":\\\"1\\\"},{\\\"Category\\\":\\\"Failure to appear, gun\\\",\\\"arrest_count\\\":\\\"1\\\"},{\\\"Category\\\":\\\"Handicap parking\\\",\\\"arrest_count\\\":\\\"1\\\"},{\\\"Category\\\":\\\"Theft, drugs\\\",\\\"arrest_count\\\":\\\"1\\\"},{\\\"Category\\\":\\\"Indecent exposure\\\",\\\"arrest_count\\\":\\\"1\\\"},{\\\"Category\\\":\\\"Traffic warrant\\\",\\\"arrest_count\\\":\\\"1\\\"},{\\\"Category\\\":\\\"Breach of peace\\\",\\\"arrest_count\\\":\\\"1\\\"},{\\\"Category\\\":\\\"Guns, drugs\\\",\\\"arrest_count\\\":\\\"1\\\"},{\\\"Category\\\":\\\"Police interference\\\",\\\"arrest_count\\\":\\\"1\\\"},{\\\"Category\\\":\\\"Battery, resisting arrres\\\",\\\"arrest_count\\\":\\\"1\\\"},{\\\"Category\\\":\\\"Animal cruelty\\\",\\\"arrest_count\\\":\\\"1\\\"},{\\\"Category\\\":\\\"Pimping\\\",\\\"arrest_count\\\":\\\"1\\\"},{\\\"Category\\\":\\\"Stalking\\\",\\\"arrest_count\\\":\\\"1\\\"},{\\\"Category\\\":\\\"Assasult\\\",\\\"arrest_count\\\":\\\"1\\\"},{\\\"Category\\\":\\\"Public urination\\\",\\\"arrest_count\\\":\\\"1\\\"},{\\\"Category\\\":\\\"Gun, privacy invasion\\\",\\\"arrest_count\\\":\\\"1\\\"},{\\\"Category\\\":\\\"Domestic violence, alcoho\\\",\\\"arrest_count\\\":\\\"1\\\"},{\\\"Category\\\":\\\"Gambling, gun\\\",\\\"arrest_count\\\":\\\"1\\\"},{\\\"Category\\\":\\\"Drugs, reckless driving\\\",\\\"arrest_count\\\":\\\"1\\\"},{\\\"Category\\\":\\\"Reckless endangerment\\\",\\\"arrest_count\\\":\\\"1\\\"},{\\\"Category\\\":\\\"False information\\\",\\\"arrest_count\\\":\\\"1\\\"},{\\\"Category\\\":\\\"DUI,drugs\\\",\\\"arrest_count\\\":\\\"1\\\"},{\\\"Category\\\":\\\"Murder\\\",\\\"arrest_count\\\":\\\"1\\\"},{\\\"Category\\\":\\\"DUI, manslaughter\\\",\\\"arrest_count\\\":\\\"1\\\"},{\\\"Category\\\":\\\"DUI, resisting arrest\\\",\\\"arrest_count\\\":\\\"1\\\"},{\\\"Category\\\":\\\"Child abuse\\\",\\\"arrest_count\\\":\\\"1\\\"},{\\\"Category\\\":\\\"Guns, drugs, reckless dri\\\",\\\"arrest_count\\\":\\\"1\\\"},{\\\"Category\\\":\\\"Hit and Run\\\",\\\"arrest_count\\\":\\\"1\\\"},{\\\"Category\\\":\\\"Animal neglect\\\",\\\"arrest_count\\\":\\\"1\\\"},{\\\"Category\\\":\\\"Coercion, gun\\\",\\\"arrest_count\\\":\\\"1\\\"},{\\\"Category\\\":\\\"Resisting officer\\\",\\\"arrest_count\\\":\\\"1\\\"},{\\\"Category\\\":\\\"Animal cruelty, drugs\\\",\\\"arrest_count\\\":\\\"1\\\"},{\\\"Category\\\":\\\"Battery, alcohol\\\",\\\"arrest_count\\\":\\\"1\\\"},{\\\"Category\\\":\\\"Alcohol, assault\\\",\\\"arrest_count\\\":\\\"1\\\"},{\\\"Category\\\":\\\"Weapon\\\",\\\"arrest_count\\\":\\\"1\\\"},{\\\"Category\\\":\\\"Burglary, assault\\\",\\\"arrest_count\\\":\\\"1\\\"},{\\\"Category\\\":\\\"Guns\\\",\\\"arrest_count\\\":\\\"1\\\"},{\\\"Category\\\":\\\"False name\\\",\\\"arrest_count\\\":\\\"1\\\"},{\\\"Category\\\":\\\"Manslaughter, child abuse\\\",\\\"arrest_count\\\":\\\"1\\\"},{\\\"Category\\\":\\\"Burglary, gun\\\",\\\"arrest_count\\\":\\\"1\\\"},{\\\"Category\\\":\\\"Burglary, battery\\\",\\\"arrest_count\\\":\\\"1\\\"}]\""
      ]
     },
     "metadata": {},
     "output_type": "display_data"
    }
   ],
   "source": [
    "the_content"
   ]
  },
  {
   "cell_type": "code",
   "execution_count": 11,
   "metadata": {
    "collapsed": false
   },
   "outputs": [
    {
     "data": {
      "text/html": [
       "<table>\n",
       "<thead><tr><th scope=col>Category</th><th scope=col>arrest_count</th></tr></thead>\n",
       "<tbody>\n",
       "\t<tr><td>DUI               </td><td>186               </td></tr>\n",
       "\t<tr><td>Drugs             </td><td>93                </td></tr>\n",
       "\t<tr><td>Domestic violence </td><td>84                </td></tr>\n",
       "\t<tr><td>Assault           </td><td>63                </td></tr>\n",
       "\t<tr><td>Disorderly conduct</td><td>38                </td></tr>\n",
       "\t<tr><td>Gun               </td><td>25                </td></tr>\n",
       "</tbody>\n",
       "</table>\n"
      ],
      "text/latex": [
       "\\begin{tabular}{r|ll}\n",
       " Category & arrest\\_count\\\\\n",
       "\\hline\n",
       "\t DUI                & 186               \\\\\n",
       "\t Drugs              & 93                \\\\\n",
       "\t Domestic violence  & 84                \\\\\n",
       "\t Assault            & 63                \\\\\n",
       "\t Disorderly conduct & 38                \\\\\n",
       "\t Gun                & 25                \\\\\n",
       "\\end{tabular}\n"
      ],
      "text/markdown": [
       "\n",
       "Category | arrest_count | \n",
       "|---|---|---|---|---|---|\n",
       "| DUI                | 186                | \n",
       "| Drugs              | 93                 | \n",
       "| Domestic violence  | 84                 | \n",
       "| Assault            | 63                 | \n",
       "| Disorderly conduct | 38                 | \n",
       "| Gun                | 25                 | \n",
       "\n",
       "\n"
      ],
      "text/plain": [
       "  Category           arrest_count\n",
       "1 DUI                186         \n",
       "2 Drugs              93          \n",
       "3 Domestic violence  84          \n",
       "4 Assault            63          \n",
       "5 Disorderly conduct 38          \n",
       "6 Gun                25          "
      ]
     },
     "metadata": {},
     "output_type": "display_data"
    }
   ],
   "source": [
    "library(jsonlite)\n",
    "dfCrime <- fromJSON(the_content, simplifyDataFrame =  TRUE)\n",
    "head(dfCrime)"
   ]
  },
  {
   "cell_type": "markdown",
   "metadata": {},
   "source": [
    "Let's only bring back the top 2 crimes. We can use the `modify_url` function from `httr`."
   ]
  },
  {
   "cell_type": "code",
   "execution_count": 12,
   "metadata": {
    "collapsed": false
   },
   "outputs": [
    {
     "data": {
      "text/html": [
       "'http://nflarrest.com/api/v1/crime?limit=2'"
      ],
      "text/latex": [
       "'http://nflarrest.com/api/v1/crime?limit=2'"
      ],
      "text/markdown": [
       "'http://nflarrest.com/api/v1/crime?limit=2'"
      ],
      "text/plain": [
       "[1] \"http://nflarrest.com/api/v1/crime?limit=2\""
      ]
     },
     "metadata": {},
     "output_type": "display_data"
    },
    {
     "data": {
      "text/html": [
       "<table>\n",
       "<thead><tr><th scope=col>Category</th><th scope=col>arrest_count</th></tr></thead>\n",
       "<tbody>\n",
       "\t<tr><td>DUI  </td><td>186  </td></tr>\n",
       "\t<tr><td>Drugs</td><td>93   </td></tr>\n",
       "</tbody>\n",
       "</table>\n"
      ],
      "text/latex": [
       "\\begin{tabular}{r|ll}\n",
       " Category & arrest\\_count\\\\\n",
       "\\hline\n",
       "\t DUI   & 186  \\\\\n",
       "\t Drugs & 93   \\\\\n",
       "\\end{tabular}\n"
      ],
      "text/markdown": [
       "\n",
       "Category | arrest_count | \n",
       "|---|---|\n",
       "| DUI   | 186   | \n",
       "| Drugs | 93    | \n",
       "\n",
       "\n"
      ],
      "text/plain": [
       "  Category arrest_count\n",
       "1 DUI      186         \n",
       "2 Drugs    93          "
      ]
     },
     "metadata": {},
     "output_type": "display_data"
    }
   ],
   "source": [
    "top2_url <- modify_url(crimes_url, query = list(limit = 2))\n",
    "top2_url\n",
    "\n",
    "response <- GET(top2_url)\n",
    "\n",
    "# Can also do this in one shot\n",
    "response <- GET(crimes_url, query = list(limit = 2))\n",
    "\n",
    "the_content <- content(response, \"text\", encoding = \"UTF-8\")\n",
    "dfCrime <- fromJSON(the_content, simplifyDataFrame =  TRUE)\n",
    "head(dfCrime)"
   ]
  },
  {
   "cell_type": "code",
   "execution_count": 13,
   "metadata": {
    "collapsed": false
   },
   "outputs": [
    {
     "data": {
      "text/html": [
       "'DUI'"
      ],
      "text/latex": [
       "'DUI'"
      ],
      "text/markdown": [
       "'DUI'"
      ],
      "text/plain": [
       "[1] \"DUI\""
      ]
     },
     "metadata": {},
     "output_type": "display_data"
    }
   ],
   "source": [
    "top_crime <- dfCrime$Category[1]\n",
    "top_crime"
   ]
  },
  {
   "cell_type": "code",
   "execution_count": 14,
   "metadata": {
    "collapsed": false
   },
   "outputs": [
    {
     "data": {
      "text/html": [
       "<table>\n",
       "<thead><tr><th scope=col>Name</th><th scope=col>arrest_count</th></tr></thead>\n",
       "<tbody>\n",
       "\t<tr><td>Eric Warfield </td><td>3             </td></tr>\n",
       "\t<tr><td>Kenny Mixon   </td><td>3             </td></tr>\n",
       "\t<tr><td>Eric Wright   </td><td>2             </td></tr>\n",
       "\t<tr><td>D.J. Williams </td><td>2             </td></tr>\n",
       "\t<tr><td>Jermaine Haley</td><td>2             </td></tr>\n",
       "\t<tr><td>Jared Allen   </td><td>2             </td></tr>\n",
       "</tbody>\n",
       "</table>\n"
      ],
      "text/latex": [
       "\\begin{tabular}{r|ll}\n",
       " Name & arrest\\_count\\\\\n",
       "\\hline\n",
       "\t Eric Warfield  & 3             \\\\\n",
       "\t Kenny Mixon    & 3             \\\\\n",
       "\t Eric Wright    & 2             \\\\\n",
       "\t D.J. Williams  & 2             \\\\\n",
       "\t Jermaine Haley & 2             \\\\\n",
       "\t Jared Allen    & 2             \\\\\n",
       "\\end{tabular}\n"
      ],
      "text/markdown": [
       "\n",
       "Name | arrest_count | \n",
       "|---|---|---|---|---|---|\n",
       "| Eric Warfield  | 3              | \n",
       "| Kenny Mixon    | 3              | \n",
       "| Eric Wright    | 2              | \n",
       "| D.J. Williams  | 2              | \n",
       "| Jermaine Haley | 2              | \n",
       "| Jared Allen    | 2              | \n",
       "\n",
       "\n"
      ],
      "text/plain": [
       "  Name           arrest_count\n",
       "1 Eric Warfield  3           \n",
       "2 Kenny Mixon    3           \n",
       "3 Eric Wright    2           \n",
       "4 D.J. Williams  2           \n",
       "5 Jermaine Haley 2           \n",
       "6 Jared Allen    2           "
      ]
     },
     "metadata": {},
     "output_type": "display_data"
    }
   ],
   "source": [
    "player_crime_url <- paste0(base_url, \"crime/topPlayers/\", top_crime)\n",
    "response <- GET(player_crime_url)\n",
    "the_content <- content(response, \"text\", encoding = \"UTF-8\")\n",
    "dfPlayerDUI <- fromJSON(the_content, simplifyDataFrame =  TRUE)\n",
    "head(dfPlayerDUI)"
   ]
  },
  {
   "cell_type": "code",
   "execution_count": 15,
   "metadata": {
    "collapsed": true
   },
   "outputs": [],
   "source": [
    "suppressPackageStartupMessages(library(dplyr))\n",
    "\n",
    "GetPlayers <- function(team, limit){\n",
    "  player_url <- \"http://nflarrest.com/api/v1/player/\"\n",
    "  \n",
    "  if (!missing(limit)) {\n",
    "    player_url <- modify_url(query = list(limit = limit))\n",
    "  }\n",
    "  response <- GET(player_url)\n",
    "  the_content <- content(response, \"text\", encoding = \"UTF-8\")\n",
    "  df <- fromJSON(the_content, simplifyDataFrame =  TRUE)\n",
    "  \n",
    "  if (!missing(team)) {\n",
    "    df <- df %>% filter(Team_name == team)\n",
    "  }\n",
    "    \n",
    "  df\n",
    "}"
   ]
  },
  {
   "cell_type": "code",
   "execution_count": 16,
   "metadata": {
    "collapsed": false
   },
   "outputs": [
    {
     "data": {
      "text/html": [
       "<table>\n",
       "<thead><tr><th scope=col>Name</th><th scope=col>Team</th><th scope=col>Team_name</th><th scope=col>Team_city</th><th scope=col>Position</th><th scope=col>arrest_count</th></tr></thead>\n",
       "<tbody>\n",
       "\t<tr><td>Chris Henry   </td><td>CIN           </td><td>Bengals       </td><td>Cincinnati    </td><td>WR            </td><td>6             </td></tr>\n",
       "\t<tr><td>Adam Jones    </td><td>CIN           </td><td>Bengals       </td><td>Cincinnati    </td><td>CB            </td><td>4             </td></tr>\n",
       "\t<tr><td>Cedric Benson </td><td>CIN           </td><td>Bengals       </td><td>Cincinnati    </td><td>RB            </td><td>2             </td></tr>\n",
       "\t<tr><td>A.J. Nicholson</td><td>CIN           </td><td>Bengals       </td><td>Cincinnati    </td><td>LB            </td><td>2             </td></tr>\n",
       "\t<tr><td>Rey Maualuga  </td><td>CIN           </td><td>Bengals       </td><td>Cincinnati    </td><td>LB            </td><td>2             </td></tr>\n",
       "\t<tr><td>Steve Foley   </td><td>CIN           </td><td>Bengals       </td><td>Cincinnati    </td><td>LB            </td><td>2             </td></tr>\n",
       "</tbody>\n",
       "</table>\n"
      ],
      "text/latex": [
       "\\begin{tabular}{r|llllll}\n",
       " Name & Team & Team\\_name & Team\\_city & Position & arrest\\_count\\\\\n",
       "\\hline\n",
       "\t Chris Henry    & CIN            & Bengals        & Cincinnati     & WR             & 6             \\\\\n",
       "\t Adam Jones     & CIN            & Bengals        & Cincinnati     & CB             & 4             \\\\\n",
       "\t Cedric Benson  & CIN            & Bengals        & Cincinnati     & RB             & 2             \\\\\n",
       "\t A.J. Nicholson & CIN            & Bengals        & Cincinnati     & LB             & 2             \\\\\n",
       "\t Rey Maualuga   & CIN            & Bengals        & Cincinnati     & LB             & 2             \\\\\n",
       "\t Steve Foley    & CIN            & Bengals        & Cincinnati     & LB             & 2             \\\\\n",
       "\\end{tabular}\n"
      ],
      "text/markdown": [
       "\n",
       "Name | Team | Team_name | Team_city | Position | arrest_count | \n",
       "|---|---|---|---|---|---|\n",
       "| Chris Henry    | CIN            | Bengals        | Cincinnati     | WR             | 6              | \n",
       "| Adam Jones     | CIN            | Bengals        | Cincinnati     | CB             | 4              | \n",
       "| Cedric Benson  | CIN            | Bengals        | Cincinnati     | RB             | 2              | \n",
       "| A.J. Nicholson | CIN            | Bengals        | Cincinnati     | LB             | 2              | \n",
       "| Rey Maualuga   | CIN            | Bengals        | Cincinnati     | LB             | 2              | \n",
       "| Steve Foley    | CIN            | Bengals        | Cincinnati     | LB             | 2              | \n",
       "\n",
       "\n"
      ],
      "text/plain": [
       "  Name           Team Team_name Team_city  Position arrest_count\n",
       "1 Chris Henry    CIN  Bengals   Cincinnati WR       6           \n",
       "2 Adam Jones     CIN  Bengals   Cincinnati CB       4           \n",
       "3 Cedric Benson  CIN  Bengals   Cincinnati RB       2           \n",
       "4 A.J. Nicholson CIN  Bengals   Cincinnati LB       2           \n",
       "5 Rey Maualuga   CIN  Bengals   Cincinnati LB       2           \n",
       "6 Steve Foley    CIN  Bengals   Cincinnati LB       2           "
      ]
     },
     "metadata": {},
     "output_type": "display_data"
    }
   ],
   "source": [
    "dfPlayers <- GetPlayers(team = \"Bengals\")\n",
    "head(dfPlayers)"
   ]
  },
  {
   "cell_type": "code",
   "execution_count": 17,
   "metadata": {
    "collapsed": false
   },
   "outputs": [],
   "source": [
    "dfCrimesByPosition <- GetPlayers() %>% \n",
    "  group_by(Position) %>% \n",
    "  mutate(arrest_count = as.integer(arrest_count)) %>% \n",
    "  summarise(avg_arrests = mean(arrest_count)) %>% \n",
    "  arrange(desc(avg_arrests))"
   ]
  },
  {
   "cell_type": "code",
   "execution_count": 18,
   "metadata": {
    "collapsed": false,
    "scrolled": true
   },
   "outputs": [
    {
     "data": {},
     "metadata": {},
     "output_type": "display_data"
    },
    {
     "data": {
      "image/png": "[encoded data removed]",
      "text/plain": [
       "plot without title"
      ]
     },
     "metadata": {},
     "output_type": "display_data"
    }
   ],
   "source": [
    "library(ggplot2)\n",
    "reorder_size <- function(df) {\n",
    "  df <- arrange(df, desc(avg_arrests))\n",
    "  factor(df$Position, levels = df$Position)\n",
    "}\n",
    "plt <- ggplot(dfCrimesByPosition, aes(reorder_size(dfCrimesByPosition), avg_arrests)) + geom_bar(stat=\"identity\")\n",
    "plt <- plt + ggplot2::xlab(\"Position\") + ylab(\"Average arrests\")\n",
    "plt"
   ]
  }
 ],
 "metadata": {
  "kernelspec": {
   "display_name": "R",
   "language": "R",
   "name": "ir"
  },
  "language_info": {
   "codemirror_mode": "r",
   "file_extension": ".r",
   "mimetype": "text/x-r-source",
   "name": "R",
   "pygments_lexer": "r",
   "version": "3.4.0"
  }
 },
 "nbformat": 4,
 "nbformat_minor": 1
}
