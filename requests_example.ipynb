{
 "cells": [
  {
   "cell_type": "code",
   "execution_count": 1,
   "metadata": {
    "collapsed": false
   },
   "outputs": [],
   "source": [
    "import requests"
   ]
  },
  {
   "cell_type": "code",
   "execution_count": 2,
   "metadata": {
    "collapsed": false
   },
   "outputs": [],
   "source": [
    "resp = requests.get('http://nflarrest.com/api/v1/crime')"
   ]
  },
  {
   "cell_type": "code",
   "execution_count": 3,
   "metadata": {
    "collapsed": false
   },
   "outputs": [
    {
     "data": {
      "text/plain": [
       "200"
      ]
     },
     "execution_count": 3,
     "metadata": {},
     "output_type": "execute_result"
    }
   ],
   "source": [
    "resp.status_code"
   ]
  },
  {
   "cell_type": "code",
   "execution_count": 4,
   "metadata": {
    "collapsed": false
   },
   "outputs": [
    {
     "data": {
      "text/plain": [
       "{'Pragma': 'no-cache', 'Content-Encoding': 'gzip', 'Server': 'nginx/1.12.0', 'Date': 'Tue, 20 Jun 2017 20:55:25 GMT', 'Content-Length': '911', 'Vary': 'Accept-Encoding', 'Connection': 'keep-alive', 'Cache-Control': 'no-store, no-cache, must-revalidate, post-check=0, pre-check=0', 'Content-Type': 'application/json', 'Set-Cookie': 'PHPSESSID=d39335ad5f38c2e1e41affdb0f204169; path=/', 'Expires': 'Thu, 19 Nov 1981 08:52:00 GMT', 'Access-Control-Allow-Origin': '*'}"
      ]
     },
     "execution_count": 4,
     "metadata": {},
     "output_type": "execute_result"
    }
   ],
   "source": [
    "resp.headers"
   ]
  },
  {
   "cell_type": "code",
   "execution_count": 5,
   "metadata": {
    "collapsed": false,
    "scrolled": true
   },
   "outputs": [
    {
     "data": {
      "text/plain": [
       "b'[{\"Category\":\"DUI\",\"arrest_count\":\"186\"},{\"Category\":\"Drugs\",\"arrest_count\":\"93\"},{\"Category\":\"Domestic violence\",\"arrest_count\":\"84\"},{\"Category\":\"Assault\",\"arrest_count\":\"63\"},{\"Category\":\"Disorderly conduct\",\"arrest_count\":\"38\"},{\"Category\":\"Gun\",\"arrest_count\":\"25\"},{\"Category\":\"License\",\"arrest_count\":\"17\"},{\"Category\":\"Reckless driving\",\"arrest_count\":\"15\"},{\"Category\":\"Alcohol\",\"arrest_count\":\"14\"},{\"Category\":\"Resisting arrest\",\"arrest_count\":\"14\"},{\"Category\":\"Battery\",\"arrest_count\":\"14\"},{\"Category\":\"Theft\",\"arrest_count\":\"14\"},{\"Category\":\"Public intoxication\",\"arrest_count\":\"14\"},{\"Category\":\"DUI, drugs\",\"arrest_count\":\"10\"},{\"Category\":\"Outstanding warrant\",\"arrest_count\":\"8\"},{\"Category\":\"Assault, gun\",\"arrest_count\":\"6\"},{\"Category\":\"Drugs, gun\",\"arrest_count\":\"6\"},{\"Category\":\"Failure to appear\",\"arrest_count\":\"6\"},{\"Category\":\"Trespassing\",\"arrest_count\":\"5\"},{\"Category\":\"Sex\",\"arrest_count\":\"5\"},{\"Category\":\"Obstruction\",\"arrest_count\":\"5\"},{\"Category\":\"Violating court order\",\"arrest_count\":\"5\"},{\"Category\":\"Gun, drugs\",\"arrest_count\":\"4\"},{\"Category\":\"Sexual assault\",\"arrest_count\":\"4\"},{\"Category\":\"Disorderly conduct, sex\",\"arrest_count\":\"4\"},{\"Category\":\"Animal abuse\",\"arrest_count\":\"3\"},{\"Category\":\"Solicitation\",\"arrest_count\":\"3\"},{\"Category\":\"Probation violation\",\"arrest_count\":\"3\"},{\"Category\":\"DUI, gun\",\"arrest_count\":\"2\"},{\"Category\":\"Harassment\",\"arrest_count\":\"2\"},{\"Category\":\"Assault, alcohol\",\"arrest_count\":\"2\"},{\"Category\":\"Manslaughter\",\"arrest_count\":\"2\"},{\"Category\":\"Murder, gun\",\"arrest_count\":\"2\"},{\"Category\":\"Criminal mischief\",\"arrest_count\":\"2\"},{\"Category\":\"Disorderly conduct, alcoh\",\"arrest_count\":\"2\"},{\"Category\":\"Domestic violence, gun\",\"arrest_count\":\"2\"},{\"Category\":\"Burglary\",\"arrest_count\":\"2\"},{\"Category\":\"DUI, assault\",\"arrest_count\":\"1\"},{\"Category\":\"Sexual battery\",\"arrest_count\":\"1\"},{\"Category\":\"Reckless driving, drugs\",\"arrest_count\":\"1\"},{\"Category\":\"Domestic dispute\",\"arrest_count\":\"1\"},{\"Category\":\"Eluding police\",\"arrest_count\":\"1\"},{\"Category\":\"Alcohol, disorderly condu\",\"arrest_count\":\"1\"},{\"Category\":\"DUI, drugs, gun\",\"arrest_count\":\"1\"},{\"Category\":\"Dogfighting\",\"arrest_count\":\"1\"},{\"Category\":\"Hit-and-run\",\"arrest_count\":\"1\"},{\"Category\":\"Domestic\",\"arrest_count\":\"1\"},{\"Category\":\"Evading arrest\",\"arrest_count\":\"1\"},{\"Category\":\"Evading police\",\"arrest_count\":\"1\"},{\"Category\":\"Domestic violence, rape\",\"arrest_count\":\"1\"},{\"Category\":\"Property destruction\",\"arrest_count\":\"1\"},{\"Category\":\"Child support\",\"arrest_count\":\"1\"},{\"Category\":\"Reckless driving, weapon\",\"arrest_count\":\"1\"},{\"Category\":\"Gun, stolen possession\",\"arrest_count\":\"1\"},{\"Category\":\"Alcohol, resisting arrest\",\"arrest_count\":\"1\"},{\"Category\":\"Attempted murder\",\"arrest_count\":\"1\"},{\"Category\":\"Drugs, license\",\"arrest_count\":\"1\"},{\"Category\":\"Drugs, resisting arrest\",\"arrest_count\":\"1\"},{\"Category\":\"Traffic warrants\",\"arrest_count\":\"1\"},{\"Category\":\"Theft, gun\",\"arrest_count\":\"1\"},{\"Category\":\"Disturbing the peace\",\"arrest_count\":\"1\"},{\"Category\":\"Failure to appear, gun\",\"arrest_count\":\"1\"},{\"Category\":\"Handicap parking\",\"arrest_count\":\"1\"},{\"Category\":\"Theft, drugs\",\"arrest_count\":\"1\"},{\"Category\":\"Indecent exposure\",\"arrest_count\":\"1\"},{\"Category\":\"Traffic warrant\",\"arrest_count\":\"1\"},{\"Category\":\"Breach of peace\",\"arrest_count\":\"1\"},{\"Category\":\"Guns, drugs\",\"arrest_count\":\"1\"},{\"Category\":\"Police interference\",\"arrest_count\":\"1\"},{\"Category\":\"Battery, resisting arrres\",\"arrest_count\":\"1\"},{\"Category\":\"Animal cruelty\",\"arrest_count\":\"1\"},{\"Category\":\"Pimping\",\"arrest_count\":\"1\"},{\"Category\":\"Stalking\",\"arrest_count\":\"1\"},{\"Category\":\"Assasult\",\"arrest_count\":\"1\"},{\"Category\":\"Public urination\",\"arrest_count\":\"1\"},{\"Category\":\"Gun, privacy invasion\",\"arrest_count\":\"1\"},{\"Category\":\"Domestic violence, alcoho\",\"arrest_count\":\"1\"},{\"Category\":\"Gambling, gun\",\"arrest_count\":\"1\"},{\"Category\":\"Drugs, reckless driving\",\"arrest_count\":\"1\"},{\"Category\":\"Reckless endangerment\",\"arrest_count\":\"1\"},{\"Category\":\"False information\",\"arrest_count\":\"1\"},{\"Category\":\"DUI,drugs\",\"arrest_count\":\"1\"},{\"Category\":\"Murder\",\"arrest_count\":\"1\"},{\"Category\":\"DUI, manslaughter\",\"arrest_count\":\"1\"},{\"Category\":\"DUI, resisting arrest\",\"arrest_count\":\"1\"},{\"Category\":\"Child abuse\",\"arrest_count\":\"1\"},{\"Category\":\"Guns, drugs, reckless dri\",\"arrest_count\":\"1\"},{\"Category\":\"Hit and Run\",\"arrest_count\":\"1\"},{\"Category\":\"Animal neglect\",\"arrest_count\":\"1\"},{\"Category\":\"Coercion, gun\",\"arrest_count\":\"1\"},{\"Category\":\"Resisting officer\",\"arrest_count\":\"1\"},{\"Category\":\"Animal cruelty, drugs\",\"arrest_count\":\"1\"},{\"Category\":\"Battery, alcohol\",\"arrest_count\":\"1\"},{\"Category\":\"Alcohol, assault\",\"arrest_count\":\"1\"},{\"Category\":\"Weapon\",\"arrest_count\":\"1\"},{\"Category\":\"Burglary, assault\",\"arrest_count\":\"1\"},{\"Category\":\"Guns\",\"arrest_count\":\"1\"},{\"Category\":\"False name\",\"arrest_count\":\"1\"},{\"Category\":\"Manslaughter, child abuse\",\"arrest_count\":\"1\"},{\"Category\":\"Burglary, gun\",\"arrest_count\":\"1\"},{\"Category\":\"Burglary, battery\",\"arrest_count\":\"1\"}]'"
      ]
     },
     "execution_count": 5,
     "metadata": {},
     "output_type": "execute_result"
    }
   ],
   "source": [
    "resp.content"
   ]
  },
  {
   "cell_type": "code",
   "execution_count": 6,
   "metadata": {
    "collapsed": false,
    "scrolled": true
   },
   "outputs": [
    {
     "data": {
      "text/plain": [
       "[{'Category': 'DUI', 'arrest_count': '186'},\n",
       " {'Category': 'Drugs', 'arrest_count': '93'},\n",
       " {'Category': 'Domestic violence', 'arrest_count': '84'},\n",
       " {'Category': 'Assault', 'arrest_count': '63'},\n",
       " {'Category': 'Disorderly conduct', 'arrest_count': '38'},\n",
       " {'Category': 'Gun', 'arrest_count': '25'},\n",
       " {'Category': 'License', 'arrest_count': '17'},\n",
       " {'Category': 'Reckless driving', 'arrest_count': '15'},\n",
       " {'Category': 'Alcohol', 'arrest_count': '14'},\n",
       " {'Category': 'Resisting arrest', 'arrest_count': '14'},\n",
       " {'Category': 'Battery', 'arrest_count': '14'},\n",
       " {'Category': 'Theft', 'arrest_count': '14'},\n",
       " {'Category': 'Public intoxication', 'arrest_count': '14'},\n",
       " {'Category': 'DUI, drugs', 'arrest_count': '10'},\n",
       " {'Category': 'Outstanding warrant', 'arrest_count': '8'},\n",
       " {'Category': 'Assault, gun', 'arrest_count': '6'},\n",
       " {'Category': 'Drugs, gun', 'arrest_count': '6'},\n",
       " {'Category': 'Failure to appear', 'arrest_count': '6'},\n",
       " {'Category': 'Trespassing', 'arrest_count': '5'},\n",
       " {'Category': 'Sex', 'arrest_count': '5'},\n",
       " {'Category': 'Obstruction', 'arrest_count': '5'},\n",
       " {'Category': 'Violating court order', 'arrest_count': '5'},\n",
       " {'Category': 'Gun, drugs', 'arrest_count': '4'},\n",
       " {'Category': 'Sexual assault', 'arrest_count': '4'},\n",
       " {'Category': 'Disorderly conduct, sex', 'arrest_count': '4'},\n",
       " {'Category': 'Animal abuse', 'arrest_count': '3'},\n",
       " {'Category': 'Solicitation', 'arrest_count': '3'},\n",
       " {'Category': 'Probation violation', 'arrest_count': '3'},\n",
       " {'Category': 'DUI, gun', 'arrest_count': '2'},\n",
       " {'Category': 'Harassment', 'arrest_count': '2'},\n",
       " {'Category': 'Assault, alcohol', 'arrest_count': '2'},\n",
       " {'Category': 'Manslaughter', 'arrest_count': '2'},\n",
       " {'Category': 'Murder, gun', 'arrest_count': '2'},\n",
       " {'Category': 'Criminal mischief', 'arrest_count': '2'},\n",
       " {'Category': 'Disorderly conduct, alcoh', 'arrest_count': '2'},\n",
       " {'Category': 'Domestic violence, gun', 'arrest_count': '2'},\n",
       " {'Category': 'Burglary', 'arrest_count': '2'},\n",
       " {'Category': 'DUI, assault', 'arrest_count': '1'},\n",
       " {'Category': 'Sexual battery', 'arrest_count': '1'},\n",
       " {'Category': 'Reckless driving, drugs', 'arrest_count': '1'},\n",
       " {'Category': 'Domestic dispute', 'arrest_count': '1'},\n",
       " {'Category': 'Eluding police', 'arrest_count': '1'},\n",
       " {'Category': 'Alcohol, disorderly condu', 'arrest_count': '1'},\n",
       " {'Category': 'DUI, drugs, gun', 'arrest_count': '1'},\n",
       " {'Category': 'Dogfighting', 'arrest_count': '1'},\n",
       " {'Category': 'Hit-and-run', 'arrest_count': '1'},\n",
       " {'Category': 'Domestic', 'arrest_count': '1'},\n",
       " {'Category': 'Evading arrest', 'arrest_count': '1'},\n",
       " {'Category': 'Evading police', 'arrest_count': '1'},\n",
       " {'Category': 'Domestic violence, rape', 'arrest_count': '1'},\n",
       " {'Category': 'Property destruction', 'arrest_count': '1'},\n",
       " {'Category': 'Child support', 'arrest_count': '1'},\n",
       " {'Category': 'Reckless driving, weapon', 'arrest_count': '1'},\n",
       " {'Category': 'Gun, stolen possession', 'arrest_count': '1'},\n",
       " {'Category': 'Alcohol, resisting arrest', 'arrest_count': '1'},\n",
       " {'Category': 'Attempted murder', 'arrest_count': '1'},\n",
       " {'Category': 'Drugs, license', 'arrest_count': '1'},\n",
       " {'Category': 'Drugs, resisting arrest', 'arrest_count': '1'},\n",
       " {'Category': 'Traffic warrants', 'arrest_count': '1'},\n",
       " {'Category': 'Theft, gun', 'arrest_count': '1'},\n",
       " {'Category': 'Disturbing the peace', 'arrest_count': '1'},\n",
       " {'Category': 'Failure to appear, gun', 'arrest_count': '1'},\n",
       " {'Category': 'Handicap parking', 'arrest_count': '1'},\n",
       " {'Category': 'Theft, drugs', 'arrest_count': '1'},\n",
       " {'Category': 'Indecent exposure', 'arrest_count': '1'},\n",
       " {'Category': 'Traffic warrant', 'arrest_count': '1'},\n",
       " {'Category': 'Breach of peace', 'arrest_count': '1'},\n",
       " {'Category': 'Guns, drugs', 'arrest_count': '1'},\n",
       " {'Category': 'Police interference', 'arrest_count': '1'},\n",
       " {'Category': 'Battery, resisting arrres', 'arrest_count': '1'},\n",
       " {'Category': 'Animal cruelty', 'arrest_count': '1'},\n",
       " {'Category': 'Pimping', 'arrest_count': '1'},\n",
       " {'Category': 'Stalking', 'arrest_count': '1'},\n",
       " {'Category': 'Assasult', 'arrest_count': '1'},\n",
       " {'Category': 'Public urination', 'arrest_count': '1'},\n",
       " {'Category': 'Gun, privacy invasion', 'arrest_count': '1'},\n",
       " {'Category': 'Domestic violence, alcoho', 'arrest_count': '1'},\n",
       " {'Category': 'Gambling, gun', 'arrest_count': '1'},\n",
       " {'Category': 'Drugs, reckless driving', 'arrest_count': '1'},\n",
       " {'Category': 'Reckless endangerment', 'arrest_count': '1'},\n",
       " {'Category': 'False information', 'arrest_count': '1'},\n",
       " {'Category': 'DUI,drugs', 'arrest_count': '1'},\n",
       " {'Category': 'Murder', 'arrest_count': '1'},\n",
       " {'Category': 'DUI, manslaughter', 'arrest_count': '1'},\n",
       " {'Category': 'DUI, resisting arrest', 'arrest_count': '1'},\n",
       " {'Category': 'Child abuse', 'arrest_count': '1'},\n",
       " {'Category': 'Guns, drugs, reckless dri', 'arrest_count': '1'},\n",
       " {'Category': 'Hit and Run', 'arrest_count': '1'},\n",
       " {'Category': 'Animal neglect', 'arrest_count': '1'},\n",
       " {'Category': 'Coercion, gun', 'arrest_count': '1'},\n",
       " {'Category': 'Resisting officer', 'arrest_count': '1'},\n",
       " {'Category': 'Animal cruelty, drugs', 'arrest_count': '1'},\n",
       " {'Category': 'Battery, alcohol', 'arrest_count': '1'},\n",
       " {'Category': 'Alcohol, assault', 'arrest_count': '1'},\n",
       " {'Category': 'Weapon', 'arrest_count': '1'},\n",
       " {'Category': 'Burglary, assault', 'arrest_count': '1'},\n",
       " {'Category': 'Guns', 'arrest_count': '1'},\n",
       " {'Category': 'False name', 'arrest_count': '1'},\n",
       " {'Category': 'Manslaughter, child abuse', 'arrest_count': '1'},\n",
       " {'Category': 'Burglary, gun', 'arrest_count': '1'},\n",
       " {'Category': 'Burglary, battery', 'arrest_count': '1'}]"
      ]
     },
     "execution_count": 6,
     "metadata": {},
     "output_type": "execute_result"
    }
   ],
   "source": [
    "resp.json()"
   ]
  },
  {
   "cell_type": "code",
   "execution_count": 7,
   "metadata": {
    "collapsed": false
   },
   "outputs": [
    {
     "data": {
      "text/plain": [
       "<RequestsCookieJar[Cookie(version=0, name='PHPSESSID', value='d39335ad5f38c2e1e41affdb0f204169', port=None, port_specified=False, domain='nflarrest.com', domain_specified=False, domain_initial_dot=False, path='/', path_specified=True, secure=False, expires=None, discard=True, comment=None, comment_url=None, rest={}, rfc2109=False)]>"
      ]
     },
     "execution_count": 7,
     "metadata": {},
     "output_type": "execute_result"
    }
   ],
   "source": [
    "resp.cookies"
   ]
  },
  {
   "cell_type": "code",
   "execution_count": 8,
   "metadata": {
    "collapsed": false
   },
   "outputs": [
    {
     "data": {
      "text/plain": [
       "<PreparedRequest [GET]>"
      ]
     },
     "execution_count": 8,
     "metadata": {},
     "output_type": "execute_result"
    }
   ],
   "source": [
    "resp.request"
   ]
  }
 ],
 "metadata": {
  "kernelspec": {
   "display_name": "Python 3",
   "language": "python",
   "name": "python3"
  },
  "language_info": {
   "codemirror_mode": {
    "name": "ipython",
    "version": 3
   },
   "file_extension": ".py",
   "mimetype": "text/x-python",
   "name": "python",
   "nbconvert_exporter": "python",
   "pygments_lexer": "ipython3",
   "version": "3.5.2"
  }
 },
 "nbformat": 4,
 "nbformat_minor": 1
}
